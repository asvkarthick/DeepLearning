{
 "cells": [
  {
   "cell_type": "code",
   "execution_count": 2,
   "id": "a04959d6",
   "metadata": {},
   "outputs": [],
   "source": [
    "# Multi Layer Perceptron\n",
    "import numpy as np"
   ]
  },
  {
   "cell_type": "code",
   "execution_count": 3,
   "id": "389eabcb",
   "metadata": {},
   "outputs": [
    {
     "name": "stdout",
     "output_type": "stream",
     "text": [
      "Network input is [0.68557997 0.9518366  0.28595888]\n",
      "Network output is [0.71553757 0.58907724]\n"
     ]
    }
   ],
   "source": [
    "class MLP:\n",
    "    def __init__(self, num_inputs, num_hidden, num_outputs):\n",
    "        self.num_inputs = num_inputs\n",
    "        self.num_hidden = num_hidden\n",
    "        self.num_outputs = num_outputs\n",
    "        layers = [self.num_inputs] + self.num_hidden + [self.num_outputs]\n",
    "        self.weights = []\n",
    "        for i in range(len(layers) - 1):\n",
    "            w = np.random.rand(layers[i], layers[i + 1])\n",
    "            self.weights.append(w)\n",
    "            \n",
    "    def forward_propagate(self, inputs):\n",
    "        activations = inputs\n",
    "        for w in self.weights:\n",
    "            net_inputs = np.dot(activations, w)\n",
    "            activations = self._sigmoid(net_inputs)\n",
    "            \n",
    "        return activations\n",
    "    \n",
    "    def _sigmoid(self, x):\n",
    "        return 1 / (1 + np.exp(-x))\n",
    "    \n",
    "if __name__ == \"__main__\":\n",
    "    mlp = MLP(3, [5, 2], 2)\n",
    "    inputs = np.random.rand(mlp.num_inputs)\n",
    "    outputs = mlp.forward_propagate(inputs)\n",
    "    print(\"Network input is {}\".format(inputs))\n",
    "    print(\"Network output is {}\".format(outputs))"
   ]
  }
 ],
 "metadata": {
  "kernelspec": {
   "display_name": "Python 3 (ipykernel)",
   "language": "python",
   "name": "python3"
  },
  "language_info": {
   "codemirror_mode": {
    "name": "ipython",
    "version": 3
   },
   "file_extension": ".py",
   "mimetype": "text/x-python",
   "name": "python",
   "nbconvert_exporter": "python",
   "pygments_lexer": "ipython3",
   "version": "3.10.9"
  }
 },
 "nbformat": 4,
 "nbformat_minor": 5
}
