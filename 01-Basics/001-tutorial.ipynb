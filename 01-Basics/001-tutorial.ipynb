{
 "cells": [
  {
   "cell_type": "code",
   "execution_count": 3,
   "id": "f1c28aeb",
   "metadata": {},
   "outputs": [
    {
     "name": "stdout",
     "output_type": "stream",
     "text": [
      "0.610639233949222\n"
     ]
    }
   ],
   "source": [
    "import math\n",
    "\n",
    "def sigmoid(x):\n",
    "    return 1.0 / (1.0 + math.exp(-x))\n",
    "\n",
    "def activate(inputs, weights):\n",
    "    h = 0\n",
    "    for x, w in zip(inputs, weights):\n",
    "        h += x * w\n",
    "        \n",
    "    return sigmoid(h)\n",
    "\n",
    "if __name__ == \"__main__\":\n",
    "    inputs = [0.5, 0.3, 0.2]\n",
    "    weights = [0.4, 0.7, 0.2]\n",
    "    output = activate(inputs, weights)\n",
    "    print(output)"
   ]
  }
 ],
 "metadata": {
  "kernelspec": {
   "display_name": "Python 3 (ipykernel)",
   "language": "python",
   "name": "python3"
  },
  "language_info": {
   "codemirror_mode": {
    "name": "ipython",
    "version": 3
   },
   "file_extension": ".py",
   "mimetype": "text/x-python",
   "name": "python",
   "nbconvert_exporter": "python",
   "pygments_lexer": "ipython3",
   "version": "3.10.9"
  }
 },
 "nbformat": 4,
 "nbformat_minor": 5
}
