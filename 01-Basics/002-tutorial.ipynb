{
 "cells": [
  {
   "cell_type": "code",
   "execution_count": 12,
   "id": "a6e7526f",
   "metadata": {},
   "outputs": [
    {
     "name": "stdout",
     "output_type": "stream",
     "text": [
      "[0.95073399 0.76133271 0.93086158]\n",
      "3.0322258067595724\n",
      "0.9540089309642452\n"
     ]
    }
   ],
   "source": [
    "# Multi Layer Perceptron Example\n",
    "\n",
    "import math\n",
    "import numpy as np\n",
    "\n",
    "def sigmoid(x):\n",
    "    return 1.0 / (1.0 + np.exp(-x))\n",
    "\n",
    "if __name__ == \"__main__\":\n",
    "    inputs = np.array([0.8, 1])\n",
    "    weights = np.array([[1.2, 0.7, 1], [2, 0.6, 1.8]])\n",
    "    h2 = np.dot(inputs, weights)\n",
    "    a2 = sigmoid(h2)\n",
    "    print(a2)\n",
    "    weights2 = np.array([1, 0.9, 1.5])\n",
    "    h3 = np.dot(a2, weights2)\n",
    "    a3 = sigmoid(h3)\n",
    "    print(h3)\n",
    "    print(a3)"
   ]
  }
 ],
 "metadata": {
  "kernelspec": {
   "display_name": "Python 3 (ipykernel)",
   "language": "python",
   "name": "python3"
  },
  "language_info": {
   "codemirror_mode": {
    "name": "ipython",
    "version": 3
   },
   "file_extension": ".py",
   "mimetype": "text/x-python",
   "name": "python",
   "nbconvert_exporter": "python",
   "pygments_lexer": "ipython3",
   "version": "3.10.9"
  }
 },
 "nbformat": 4,
 "nbformat_minor": 5
}
